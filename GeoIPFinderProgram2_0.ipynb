{
 "cells": [
  {
   "cell_type": "markdown",
   "metadata": {},
   "source": [
    "The following code will take a list of IPs and use a database to find from which country the IP originates. The list of IPs used here (called 'ip.txt') is taken from a list of known malicious addresses (http://www.malwaredomainlist.com/forums/index.php?topic=3270.0). The database referencing countries by IP addresses is downloaded from (https://dev.maxmind.com/geoip/legacy/geolite/).\n",
    "\n",
    "First we import some necessary packages. 'pygeoip' is a package that runs in tandem with the database we downloaded, and helps to reference the entries inside. 'os' is to allow us to navigate directories and find necessary files without leaving python. 'csv' is needed to correctly handle the text file and read it into a workable format:"
   ]
  },
  {
   "cell_type": "code",
   "execution_count": 2,
   "metadata": {},
   "outputs": [],
   "source": [
    "import pygeoip\n",
    "import os\n",
    "import csv"
   ]
  },
  {
   "cell_type": "markdown",
   "metadata": {},
   "source": [
    "Our next step is to reference the database using the package we have downloaded, and assign this to a variable (in this case 'gi'). We also tell the program to locate the text file containing the malicious IPs, and read them out in csv format. "
   ]
  },
  {
   "cell_type": "code",
   "execution_count": 3,
   "metadata": {},
   "outputs": [
    {
     "name": "stdout",
     "output_type": "stream",
     "text": [
      "[['103.14.120.121'], ['103.19.89.55'], ['103.224.212.222'], ['103.24.13.91'], ['103.31.186.207'], ['103.31.186.29'], ['103.4.16.91'], ['103.4.218.22'], ['103.6.196.156'], ['103.8.127.189']]\n"
     ]
    }
   ],
   "source": [
    "gi = pygeoip.GeoIP('GeoIP.dat')\n",
    "os.getcwd()\n",
    "os.chdir('/home/sharding/Downloads')\n",
    "with open('ip.txt', 'r') as f:\n",
    "    reader = csv.reader(f)\n",
    "    IPList=list(reader)\n",
    "print(IPList[0:10])"
   ]
  },
  {
   "cell_type": "markdown",
   "metadata": {},
   "source": [
    "The first few values in the list are shown. It turns out that this list is not particularly nice to work with, as it is a \"list of lists\" so to speak. The individual IPs will be a lot easier to reference later on if they are all in a single list without the need for individual lists to hold each datum. The following code acomplishes this, simply be defining an empty list and add in each data point in sequentially:"
   ]
  },
  {
   "cell_type": "code",
   "execution_count": 4,
   "metadata": {},
   "outputs": [
    {
     "name": "stdout",
     "output_type": "stream",
     "text": [
      "['103.14.120.121', '103.19.89.55', '103.224.212.222', '103.24.13.91', '103.31.186.207', '103.31.186.29', '103.4.16.91', '103.4.218.22', '103.6.196.156', '103.8.127.189']\n"
     ]
    }
   ],
   "source": [
    "IPListAdjusted=[]\n",
    "for i in range(0,len(IPList),1):\n",
    "    IPListAdjusted.append(IPList[i][0])\n",
    "print(IPListAdjusted[0:10])"
   ]
  },
  {
   "cell_type": "markdown",
   "metadata": {},
   "source": [
    "Again, the first few entries in the new list are shown, and it is clear to see that this process leaves the IP list in a much nicer format, since continuous double referencing of lists is no longer required. The next part of the code again creates a blank list, but this time it sequentially adds in the countries from which the above IPs originate. This information is found by referencing the database which we downloaded, through the 'gi' command. The first 25 IPs in the list are shown, followed by the first 25 values in the country list."
   ]
  },
  {
   "cell_type": "code",
   "execution_count": 5,
   "metadata": {},
   "outputs": [
    {
     "name": "stdout",
     "output_type": "stream",
     "text": [
      "['103.14.120.121', '103.19.89.55', '103.224.212.222', '103.24.13.91', '103.31.186.207', '103.31.186.29', '103.4.16.91', '103.4.218.22', '103.6.196.156', '103.8.127.189', '103.8.127.205', '104.152.215.90', '104.200.67.194', '104.245.239.7', '104.27.163.228', '104.28.14.104', '104.28.15.104', '104.31.75.147', '107.161.144.14', '107.180.26.77', '108.162.198.96', '108.162.199.96', '108.168.210.189', '108.179.202.25', '109.163.225.232']\n",
      "['India', 'India', 'Australia', 'Indonesia', 'Hong Kong', 'Hong Kong', 'Australia', 'Thailand', 'Malaysia', 'India', 'India', 'United States', 'United States', 'United States', 'United States', 'United States', 'United States', 'United States', 'United States', 'United States', 'United States', 'United States', 'United States', 'United States', 'Romania']\n"
     ]
    }
   ],
   "source": [
    "IPCountryName=[]\n",
    "for i in range(0,len(IPListAdjusted),1):\n",
    "    IPCountryName.append(gi.country_name_by_addr(IPListAdjusted[i]))\n",
    "print(IPListAdjusted[0:25])\n",
    "print(IPCountryName[0:25])"
   ]
  },
  {
   "cell_type": "markdown",
   "metadata": {},
   "source": [
    "Although none of the above display this, some of the IPs (particularly near the end of the IP list) return blank country names (''), most likely because the database from which we are referencing the country names is incomplete. These unknown values are largely useless, and it is easy to remove them:"
   ]
  },
  {
   "cell_type": "code",
   "execution_count": 9,
   "metadata": {},
   "outputs": [
    {
     "name": "stdout",
     "output_type": "stream",
     "text": [
      "Original IP list of length =\n",
      "1003\n",
      "New IP list of length =\n",
      "967\n"
     ]
    }
   ],
   "source": [
    "IPCountryNameAdjusted=[x for x in IPCountryName if not x=='']\n",
    "print(\"Original IP list of length =\")\n",
    "print(len(IPCountryName))\n",
    "print(\"New IP list of length =\")\n",
    "print(len(IPCountryNameAdjusted))"
   ]
  },
  {
   "cell_type": "markdown",
   "metadata": {},
   "source": [
    "From this we can see that a total of 36 data points were removed for being null, which leaves us with about 96% of our original data. This list is currently too long to be of use, so we need some code to be able to analyse it. The following lines produce a frequency chart showing the number of times each country appeared (only the top 25 most frequent are shown):"
   ]
  },
  {
   "cell_type": "code",
   "execution_count": 11,
   "metadata": {},
   "outputs": [
    {
     "name": "stdout",
     "output_type": "stream",
     "text": [
      "United States         317\n",
      "Russian Federation     71\n",
      "Germany                60\n",
      "France                 53\n",
      "Netherlands            46\n",
      "China                  41\n",
      "United Kingdom         36\n",
      "Ukraine                36\n",
      "Italy                  33\n",
      "Korea, Republic of     26\n",
      "Canada                 19\n",
      "Brazil                 16\n",
      "Poland                 15\n",
      "Czech Republic         14\n",
      "Japan                  12\n",
      "Turkey                 11\n",
      "Austria                11\n",
      "Singapore              10\n",
      "Romania                 8\n",
      "Sweden                  8\n",
      "Spain                   8\n",
      "Latvia                  7\n",
      "India                   7\n",
      "Ireland                 6\n",
      "Taiwan                  5\n",
      "dtype: int64\n"
     ]
    }
   ],
   "source": [
    "import pandas as pd\n",
    "IPCountrySeries=pd.Series(IPCountryNameAdjusted)\n",
    "counts=IPCountrySeries.value_counts()\n",
    "print(counts[0:25])"
   ]
  },
  {
   "cell_type": "markdown",
   "metadata": {},
   "source": [
    "It is clear that the US dominates the list, accounting for about 33% of all the malicious IPs. Unfortunately, the data we found gives us no more information than just a list of the IP addresses, so it is difficult to analyse this dataset much further. There is one more thing that the GeoIP database allows us to do: we can narrow our view further and see from which cities within the country the IP addresses are from. For this, I only considered the IPs originating from the US. This was for two reasons, the first being that the US accounted for the greatest proportion of the dataset so I was interested to see if there was any one location within the country with a large amount of malicious IPs, and secondly that the city finder program appeared to have a much larger knowledge of US cities than most other countries (possibly due to the fact that the database was from the US itself). The process of doing this was much the same as before, with an additional line at the start telling the program to only consider US IPs. "
   ]
  },
  {
   "cell_type": "code",
   "execution_count": 14,
   "metadata": {},
   "outputs": [
    {
     "name": "stdout",
     "output_type": "stream",
     "text": [
      "['Cheyenne', 'Lewes', 'New York', None, None, None, None, 'Buffalo', 'Scottsdale', 'Vero Beach', 'Vero Beach', 'Dallas', 'Houston', 'Los Angeles', 'Scottsdale', 'Scottsdale', 'Scottsdale', 'Provo', 'Beltsville', 'Beltsville', None, None, 'Austin', 'Scottsdale', 'Scottsdale']\n"
     ]
    }
   ],
   "source": [
    "KnownIPs=[x for x in range(0,len(IPCountryName),1) if not IPCountryName[x]=='']\n",
    "USIPs=[x for x in KnownIPs if IPCountryName[x]=='United States']\n",
    "gc = pygeoip.GeoIP('GeoLiteCity.dat')\n",
    "USCities=[]\n",
    "for i in USIPs:\n",
    "    USCities.append(gc.record_by_addr(IPListAdjusted[i])[\"city\"])\n",
    "print(USCities[0:25])"
   ]
  },
  {
   "cell_type": "markdown",
   "metadata": {},
   "source": [
    "Now we can repeat the frequency chart with our collection of US cities. The values here are much more spread, with the top four cities being roughly equal in count. I had expected to see mostly the larger and more populous cities such as New York and San Fransisco, but the most common cities here appear to be cities in the south states. This of course does not imply that these cities are home to more malicious IPs accross the board, but only in this very small sample of IPs which have been flagged as dangerous."
   ]
  },
  {
   "cell_type": "code",
   "execution_count": 52,
   "metadata": {},
   "outputs": [
    {
     "name": "stdout",
     "output_type": "stream",
     "text": [
      "Scottsdale      26\n",
      "Houston         23\n",
      "Provo           22\n",
      "Dallas          20\n",
      "Chicago         12\n",
      "Burlington      12\n",
      "Los Angeles     10\n",
      "Phoenix          9\n",
      "Ashburn          8\n",
      "Atlanta          8\n",
      "Las Vegas        5\n",
      "Saint Louis      5\n",
      "Seattle          5\n",
      "San Jose         5\n",
      "Austin           4\n",
      "Brea             4\n",
      "Lansing          4\n",
      "Buffalo          3\n",
      "Jacksonville     3\n",
      "Orange           3\n",
      "dtype: int64\n"
     ]
    }
   ],
   "source": [
    "IPCitySeries=pd.Series(USCities)\n",
    "citycounts=IPCitySeries.value_counts()\n",
    "print(citycounts[0:20])"
   ]
  },
  {
   "cell_type": "code",
   "execution_count": null,
   "metadata": {},
   "outputs": [],
   "source": []
  }
 ],
 "metadata": {
  "kernelspec": {
   "display_name": "Python 3",
   "language": "python",
   "name": "python3"
  },
  "language_info": {
   "codemirror_mode": {
    "name": "ipython",
    "version": 3
   },
   "file_extension": ".py",
   "mimetype": "text/x-python",
   "name": "python",
   "nbconvert_exporter": "python",
   "pygments_lexer": "ipython3",
   "version": "3.6.6"
  }
 },
 "nbformat": 4,
 "nbformat_minor": 2
}
