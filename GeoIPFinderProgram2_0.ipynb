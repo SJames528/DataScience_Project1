{
 "cells": [
  {
   "cell_type": "markdown",
   "metadata": {},
   "source": [
    "The following code will take a list of IPs and use a database to find from which country the IP originates. The list of IPs used here (called 'ip.txt') is taken from a list of known malicious addresses (http://www.malwaredomainlist.com/forums/index.php?topic=3270.0). The database referencing countries by IP addresses is downloaded from (https://dev.maxmind.com/geoip/legacy/geolite/):"
   ]
  },
  {
   "cell_type": "code",
   "execution_count": 13,
   "metadata": {},
   "outputs": [
    {
     "name": "stdout",
     "output_type": "stream",
     "text": [
      "['India', 'India', 'Australia', 'Indonesia', 'Hong Kong', 'Hong Kong', 'Australia', 'Thailand', 'Malaysia', 'India', 'India', 'United States', 'United States', 'United States', 'United States', 'United States', 'United States', 'United States', 'United States', 'United States', 'United States', 'United States', 'United States', 'United States', 'Romania', 'Romania', 'Italy', 'Italy', 'Russian Federation', 'Russian Federation', 'Russian Federation', 'Russian Federation', 'United Kingdom', 'United Kingdom', 'Israel', 'Portugal', 'Netherlands', 'Ukraine', 'Korea, Republic of', 'China', 'Japan', 'Hong Kong', 'Korea, Republic of', 'Japan', 'Vietnam', 'China', 'Bangladesh', 'Korea, Republic of', 'Japan', 'China', 'Korea, Republic of', 'Australia', 'Korea, Republic of', 'China', 'China', 'China', 'Korea, Republic of', 'China', 'Vietnam', 'China', 'India', 'Japan', 'China', 'China', 'Korea, Republic of', 'Korea, Republic of', 'China', 'China', 'China', 'Vietnam', 'Vietnam', 'Korea, Republic of', 'Korea, Republic of', 'China', 'Korea, Republic of', 'Singapore', 'Italy', 'Spain', 'France', '', '', 'Canada', 'United States', 'Germany', 'Germany', 'Russian Federation', 'United Kingdom', 'Netherlands', 'Spain', 'Poland', 'China', 'United States', 'United States', 'United States', 'United States', 'United States', 'United States', 'United States', 'United States', 'United States']\n"
     ]
    }
   ],
   "source": [
    "import pygeoip\n",
    "import os\n",
    "import csv\n",
    "gi = pygeoip.GeoIP('GeoIP.dat')\n",
    "os.getcwd()\n",
    "os.chdir('/home/sharding/Downloads')\n",
    "with open('ip.txt', 'r') as f:\n",
    "    reader = csv.reader(f)\n",
    "    IPList=list(reader)\n",
    "IPListAdjusted=[]\n",
    "for i in range(0,len(IPList),1):\n",
    "    IPListAdjusted.append(IPList[i][0])\n",
    "IPCountryName=[]\n",
    "for i in range(0,len(IPListAdjusted),1):\n",
    "    IPCountryName.append(gi.country_name_by_addr(IPListAdjusted[i]))\n",
    "print(IPCountryName[0:100])"
   ]
  },
  {
   "cell_type": "markdown",
   "metadata": {},
   "source": [
    "First we import some necessary packages. 'pygeoip' is a package that runs in tandem with the database we downloaded, and helps to reference the entries inside. 'os' is to allow us to navigate directories and find necessary files without leaving python. 'csv' is needed to correctly handle the text file and read it into a workable format.\n",
    "\n",
    "\n",
    "\n",
    "The first 100 IP countries are shown. Some of the IPs, particularly near the end of the large list, return blank country names (''), most likely because the database from which we are referencing the country names is incomplete. It is easy to remove these unknown values:"
   ]
  },
  {
   "cell_type": "code",
   "execution_count": 4,
   "metadata": {},
   "outputs": [
    {
     "name": "stdout",
     "output_type": "stream",
     "text": [
      "['India', 'India', 'Australia', 'Indonesia', 'Hong Kong', 'Hong Kong', 'Australia', 'Thailand', 'Malaysia', 'India', 'India', 'United States', 'United States', 'United States', 'United States', 'United States', 'United States', 'United States', 'United States', 'United States', 'United States', 'United States', 'United States', 'United States', 'Romania', 'Romania', 'Italy', 'Italy', 'Russian Federation', 'Russian Federation', 'Russian Federation', 'Russian Federation', 'United Kingdom', 'United Kingdom', 'Israel', 'Portugal', 'Netherlands', 'Ukraine', 'Korea, Republic of', 'China', 'Japan', 'Hong Kong', 'Korea, Republic of', 'Japan', 'Vietnam', 'China', 'Bangladesh', 'Korea, Republic of', 'Japan', 'China', 'Korea, Republic of', 'Australia', 'Korea, Republic of', 'China', 'China', 'China', 'Korea, Republic of', 'China', 'Vietnam', 'China', 'India', 'Japan', 'China', 'China', 'Korea, Republic of', 'Korea, Republic of', 'China', 'China', 'China', 'Vietnam', 'Vietnam', 'Korea, Republic of', 'Korea, Republic of', 'China', 'Korea, Republic of', 'Singapore', 'Italy', 'Spain', 'France', 'Canada', 'United States', 'Germany', 'Germany', 'Russian Federation', 'United Kingdom', 'Netherlands', 'Spain', 'Poland', 'China', 'United States', 'United States', 'United States', 'United States', 'United States', 'United States', 'United States', 'United States', 'United States', 'United States', 'United States']\n"
     ]
    },
    {
     "data": {
      "text/plain": [
       "967"
      ]
     },
     "execution_count": 4,
     "metadata": {},
     "output_type": "execute_result"
    }
   ],
   "source": [
    "IPCountryNameAdjusted=[x for x in IPCountryName if not x=='']\n",
    "print(IPCountryNameAdjusted[0:100])\n",
    "len(IPCountryNameAdjusted)"
   ]
  },
  {
   "cell_type": "markdown",
   "metadata": {},
   "source": [
    "We are left with about 96% of our original data."
   ]
  },
  {
   "cell_type": "code",
   "execution_count": 7,
   "metadata": {},
   "outputs": [
    {
     "name": "stdout",
     "output_type": "stream",
     "text": [
      "United States         317\n",
      "Russian Federation     71\n",
      "Germany                60\n",
      "France                 53\n",
      "Netherlands            46\n",
      "China                  41\n",
      "Ukraine                36\n",
      "United Kingdom         36\n",
      "Italy                  33\n",
      "Korea, Republic of     26\n",
      "Canada                 19\n",
      "Brazil                 16\n",
      "Poland                 15\n",
      "Czech Republic         14\n",
      "Japan                  12\n",
      "Turkey                 11\n",
      "Austria                11\n",
      "Singapore              10\n",
      "Romania                 8\n",
      "Sweden                  8\n",
      "dtype: int64\n"
     ]
    }
   ],
   "source": [
    "import pandas as pd\n",
    "IPCountrySeries=pd.Series(IPCountryNameAdjusted)\n",
    "counts=IPCountrySeries.value_counts()\n",
    "print(counts[0:20])"
   ]
  },
  {
   "cell_type": "markdown",
   "metadata": {},
   "source": [
    "This code gives the number of times that each country occures in the list of dangerous IP addresses."
   ]
  },
  {
   "cell_type": "code",
   "execution_count": 9,
   "metadata": {},
   "outputs": [
    {
     "data": {
      "text/plain": [
       "'/home/sharding/Downloads'"
      ]
     },
     "execution_count": 9,
     "metadata": {},
     "output_type": "execute_result"
    }
   ],
   "source": [
    "os.getcwd()"
   ]
  },
  {
   "cell_type": "code",
   "execution_count": null,
   "metadata": {},
   "outputs": [],
   "source": []
  }
 ],
 "metadata": {
  "kernelspec": {
   "display_name": "Python 3",
   "language": "python",
   "name": "python3"
  },
  "language_info": {
   "codemirror_mode": {
    "name": "ipython",
    "version": 3
   },
   "file_extension": ".py",
   "mimetype": "text/x-python",
   "name": "python",
   "nbconvert_exporter": "python",
   "pygments_lexer": "ipython3",
   "version": "3.6.6"
  }
 },
 "nbformat": 4,
 "nbformat_minor": 2
}
