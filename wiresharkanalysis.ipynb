{
 "cells": [
  {
   "cell_type": "markdown",
   "metadata": {},
   "source": []
  },
  {
   "cell_type": "markdown",
   "metadata": {},
   "source": [
    "https://github.com/cyberdefenders/MachineLearning/blob/master/Data_analysis/Network%20analysis/weird%20analysis.ipynb\n",
    "\n",
    "This link contains Python code from Secrepo which allows us to create a Data Quality Report on the data we have. I tried to run this code on the data I had from my Wireshark capture, but there were some issues, such as Unicode Error notifications.\n",
    "After searching through Stack Overflow, I made some modifications to the code, which allowed it to run on my data. The modified code is given below. "
   ]
  },
  {
   "cell_type": "code",
   "execution_count": 4,
   "metadata": {},
   "outputs": [
    {
     "name": "stdout",
     "output_type": "stream",
     "text": [
      "Data Quality Report\n"
     ]
    },
    {
     "data": {
      "text/html": [
       "<div>\n",
       "<style scoped>\n",
       "    .dataframe tbody tr th:only-of-type {\n",
       "        vertical-align: middle;\n",
       "    }\n",
       "\n",
       "    .dataframe tbody tr th {\n",
       "        vertical-align: top;\n",
       "    }\n",
       "\n",
       "    .dataframe thead th {\n",
       "        text-align: right;\n",
       "    }\n",
       "</style>\n",
       "<table border=\"1\" class=\"dataframe\">\n",
       "  <thead>\n",
       "    <tr style=\"text-align: right;\">\n",
       "      <th></th>\n",
       "      <th>Data Type</th>\n",
       "      <th>Count</th>\n",
       "      <th>Unique Values</th>\n",
       "      <th>Missing Values</th>\n",
       "    </tr>\n",
       "  </thead>\n",
       "  <tbody>\n",
       "    <tr>\n",
       "      <th>No.</th>\n",
       "      <td>int64</td>\n",
       "      <td>89522</td>\n",
       "      <td>89522</td>\n",
       "      <td>0</td>\n",
       "    </tr>\n",
       "    <tr>\n",
       "      <th>Time</th>\n",
       "      <td>float64</td>\n",
       "      <td>89522</td>\n",
       "      <td>83820</td>\n",
       "      <td>0</td>\n",
       "    </tr>\n",
       "    <tr>\n",
       "      <th>Source</th>\n",
       "      <td>object</td>\n",
       "      <td>89522</td>\n",
       "      <td>86</td>\n",
       "      <td>0</td>\n",
       "    </tr>\n",
       "    <tr>\n",
       "      <th>Destination</th>\n",
       "      <td>object</td>\n",
       "      <td>89522</td>\n",
       "      <td>70</td>\n",
       "      <td>0</td>\n",
       "    </tr>\n",
       "    <tr>\n",
       "      <th>Protocol</th>\n",
       "      <td>object</td>\n",
       "      <td>89522</td>\n",
       "      <td>13</td>\n",
       "      <td>0</td>\n",
       "    </tr>\n",
       "    <tr>\n",
       "      <th>Length</th>\n",
       "      <td>int64</td>\n",
       "      <td>89522</td>\n",
       "      <td>592</td>\n",
       "      <td>0</td>\n",
       "    </tr>\n",
       "    <tr>\n",
       "      <th>Info</th>\n",
       "      <td>object</td>\n",
       "      <td>89522</td>\n",
       "      <td>82923</td>\n",
       "      <td>0</td>\n",
       "    </tr>\n",
       "  </tbody>\n",
       "</table>\n",
       "</div>"
      ],
      "text/plain": [
       "            Data Type  Count Unique Values  Missing Values\n",
       "No.             int64  89522         89522               0\n",
       "Time          float64  89522         83820               0\n",
       "Source         object  89522            86               0\n",
       "Destination    object  89522            70               0\n",
       "Protocol       object  89522            13               0\n",
       "Length          int64  89522           592               0\n",
       "Info           object  89522         82923               0"
      ]
     },
     "execution_count": 4,
     "metadata": {},
     "output_type": "execute_result"
    }
   ],
   "source": [
    "# -*- coding: utf-8 -*-\n",
    "from mpl_toolkits.mplot3d import Axes3D\n",
    "import pandas as pd\n",
    "import matplotlib.pyplot as plt\n",
    "\n",
    "df = pd.read_csv(\"C:\\\\Users\\\\KISHALAY\\\\Documents\\\\wiresharkdata.csv\", encoding=\"utf-8\")\n",
    "df\n",
    "columns = pd.DataFrame(list(df.columns.values[1:]))\n",
    "datatypes = pd.DataFrame(df.dtypes, columns=['Data Type'])\n",
    "datacount = pd.DataFrame(df.count(), columns=['Count'])\n",
    "uniquevaluecounts = pd.DataFrame(columns=['Unique Values'])\n",
    "for v in list(df.columns.values):\n",
    "    uniquevaluecounts.loc[v]=[df[v].nunique()]\n",
    "missingdatacounts=pd.DataFrame(df.isnull().sum(), columns=['Missing Values'])\n",
    "dataqualityreport=datatypes.join(datacount).join(uniquevaluecounts).join(missingdatacounts)\n",
    "print('Data Quality Report')\n",
    "dataqualityreport\n"
   ]
  }
 ],
 "metadata": {
  "kernelspec": {
   "display_name": "Python 3",
   "language": "python",
   "name": "python3"
  },
  "language_info": {
   "codemirror_mode": {
    "name": "ipython",
    "version": 3
   },
   "file_extension": ".py",
   "mimetype": "text/x-python",
   "name": "python",
   "nbconvert_exporter": "python",
   "pygments_lexer": "ipython3",
   "version": "3.7.0"
  }
 },
 "nbformat": 4,
 "nbformat_minor": 2
}
