{
 "cells": [
  {
   "cell_type": "code",
   "execution_count": 5,
   "metadata": {
    "scrolled": false
   },
   "outputs": [],
   "source": [
    "import pygeoip\n",
    "import os\n",
    "import csv"
   ]
  },
  {
   "cell_type": "markdown",
   "metadata": {},
   "source": [
    "The code below takes the wireshark IP connections and finds the country they correspond to\n"
   ]
  },
  {
   "cell_type": "code",
   "execution_count": 12,
   "metadata": {},
   "outputs": [
    {
     "name": "stdout",
     "output_type": "stream",
     "text": [
      "['United Kingdom', 'United Kingdom', 'United States', 'United States', 'United States', 'United States', 'United Kingdom', 'United Kingdom', 'United Kingdom', 'United Kingdom', 'United Kingdom', 'United States', 'United States', 'United Kingdom', 'United Kingdom', 'United Kingdom', 'United Kingdom', 'United States', 'United States']\n"
     ]
    }
   ],
   "source": [
    "gi = pygeoip.GeoIP('/home/katarzyna/Documents/Data Science/FirstProject/GeoIP.dat')\n",
    "os.getcwd()\n",
    "os.chdir('/home/katarzyna/Documents/Data Science/FirstProject')\n",
    "with open('reducedmyv4IPs.txt', 'r') as f:\n",
    "    reader = csv.reader(f)\n",
    "    oIPList=list(reader)\n",
    "IPListAdjusted=[]\n",
    "for i in range(1,len(IPList),1):\n",
    "    IPListAdjusted.append(oIPList[i][0])\n",
    "IPCountryName=[]\n",
    "for i in range(1,len(IPListAdjusted),1):\n",
    "    IPCountryName.append(gi.country_name_by_addr(IPListAdjusted[i]))\n",
    "print(IPCountryName[1:20])"
   ]
  },
  {
   "cell_type": "markdown",
   "metadata": {},
   "source": [
    "This code checks if any of the IP our computer communicates is on the list of malicious IPs"
   ]
  },
  {
   "cell_type": "code",
   "execution_count": 11,
   "metadata": {
    "scrolled": true
   },
   "outputs": [
    {
     "name": "stdout",
     "output_type": "stream",
     "text": [
      "['India', 'India', 'Australia', 'Indonesia', 'Hong Kong', 'Hong Kong', 'Australia', 'Thailand', 'Malaysia', 'India', 'India', 'United States', 'United States', 'United States', 'United States', 'United States', 'United States', 'United States', 'United States', 'United States', 'United States', 'United States', 'United States', 'United States', 'Romania', 'Romania', 'Italy', 'Italy', 'Russian Federation', 'Russian Federation', 'Russian Federation', 'Russian Federation', 'United Kingdom', 'United Kingdom', 'Israel', 'Portugal', 'Netherlands', 'Ukraine', 'Korea, Republic of', 'China', 'Japan', 'Hong Kong', 'Korea, Republic of', 'Japan', 'Vietnam', 'China', 'Bangladesh', 'Korea, Republic of', 'Japan', 'China', 'Korea, Republic of', 'Australia', 'Korea, Republic of', 'China', 'China', 'China', 'Korea, Republic of', 'China', 'Vietnam', 'China', 'India', 'Japan', 'China', 'China', 'Korea, Republic of', 'Korea, Republic of', 'China', 'China', 'China', 'Vietnam', 'Vietnam', 'Korea, Republic of', 'Korea, Republic of', 'China', 'Korea, Republic of', 'Singapore', 'Italy', 'Spain', 'France', '', '', 'Canada', 'United States', 'Germany', 'Germany', 'Russian Federation', 'United Kingdom', 'Netherlands', 'Spain', 'Poland', 'China', 'United States', 'United States', 'United States', 'United States', 'United States', 'United States', 'United States', 'United States', 'United States']\n"
     ]
    }
   ],
   "source": [
    "import pygeoip\n",
    "import os\n",
    "import csv\n",
    "gi = pygeoip.GeoIP('/home/katarzyna/Documents/Data Science/FirstProject/GeoIP.dat')\n",
    "os.getcwd()\n",
    "os.chdir('/home/katarzyna/Documents/Data Science/FirstProject')\n",
    "with open('ip.txt', 'r') as f:\n",
    "    reader = csv.reader(f)\n",
    "    IPList=list(reader)\n",
    "IPListAdjusted=[]\n",
    "for i in range(0,len(IPList),1):\n",
    "    IPListAdjusted.append(IPList[i][0])\n",
    "IPCountryName=[]\n",
    "for i in range(0,len(IPListAdjusted),1):\n",
    "    IPCountryName.append(gi.country_name_by_addr(IPListAdjusted[i]))\n",
    "print(IPCountryName[0:100])"
   ]
  },
  {
   "cell_type": "markdown",
   "metadata": {},
   "source": [
    "The function compares two lists. One is the list of the malicious IPs and the other one is list of IPs our computer communicates with. "
   ]
  },
  {
   "cell_type": "code",
   "execution_count": 15,
   "metadata": {},
   "outputs": [],
   "source": [
    "def common_data(list1,list2): \n",
    "    result = False\n",
    "  \n",
    "    # traverse in the 1st list \n",
    "    for x in list1: \n",
    "  \n",
    "        # traverse in the 2nd list \n",
    "        for y in list2: \n",
    "    \n",
    "            # if one common \n",
    "            if x == y: \n",
    "                result = True\n",
    "                return result  \n",
    "                  \n",
    "    return result "
   ]
  },
  {
   "cell_type": "code",
   "execution_count": 18,
   "metadata": {},
   "outputs": [
    {
     "data": {
      "text/plain": [
       "False"
      ]
     },
     "execution_count": 18,
     "metadata": {},
     "output_type": "execute_result"
    }
   ],
   "source": [
    "common_data(IPList,oIPList)\n"
   ]
  },
  {
   "cell_type": "markdown",
   "metadata": {},
   "source": [
    "False as a result means that the computer does not communicate with any of the IPs from the list. We should remember that the list of malicious IPs we got is not long enough to say more about security of our network. "
   ]
  }
 ],
 "metadata": {
  "kernelspec": {
   "display_name": "Python 3",
   "language": "python",
   "name": "python3"
  },
  "language_info": {
   "codemirror_mode": {
    "name": "ipython",
    "version": 3
   },
   "file_extension": ".py",
   "mimetype": "text/x-python",
   "name": "python",
   "nbconvert_exporter": "python",
   "pygments_lexer": "ipython3",
   "version": "3.6.6"
  }
 },
 "nbformat": 4,
 "nbformat_minor": 2
}
