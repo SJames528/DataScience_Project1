{
 "cells": [
  {
   "cell_type": "code",
   "execution_count": 5,
   "metadata": {
    "scrolled": false
   },
   "outputs": [],
   "source": [
    "import pygeoip\n",
    "import os\n",
    "import csv"
   ]
  },
  {
   "cell_type": "markdown",
   "metadata": {},
   "source": [
    "This code takes the wireshark IP connections and finds the country they correspond to\n"
   ]
  },
  {
   "cell_type": "code",
   "execution_count": 9,
   "metadata": {},
   "outputs": [
    {
     "name": "stdout",
     "output_type": "stream",
     "text": [
      "['United Kingdom', 'United Kingdom', 'United States', 'United States', 'United States', 'United States', 'United Kingdom', 'United Kingdom', 'United Kingdom', 'United Kingdom', 'United Kingdom', 'United States', 'United States', 'United Kingdom', 'United Kingdom', 'United Kingdom', 'United Kingdom', 'United States', 'United States']\n"
     ]
    }
   ],
   "source": [
    "gi = pygeoip.GeoIP('/home/katarzyna/Documents/Data Science/FirstProject/GeoIP.dat')\n",
    "os.getcwd()\n",
    "os.chdir('/home/katarzyna/Documents/Data Science/FirstProject')\n",
    "with open('reducedmyv4IPs.txt', 'r') as f:\n",
    "    reader = csv.reader(f)\n",
    "    IPList=list(reader)\n",
    "IPListAdjusted=[]\n",
    "for i in range(1,len(IPList),1):\n",
    "    IPListAdjusted.append(IPList[i][0])\n",
    "IPCountryName=[]\n",
    "for i in range(1,len(IPListAdjusted),1):\n",
    "    IPCountryName.append(gi.country_name_by_addr(IPListAdjusted[i]))\n",
    "print(IPCountryName[1:20])"
   ]
  },
  {
   "cell_type": "code",
   "execution_count": null,
   "metadata": {},
   "outputs": [],
   "source": []
  }
 ],
 "metadata": {
  "kernelspec": {
   "display_name": "Python 3",
   "language": "python",
   "name": "python3"
  },
  "language_info": {
   "codemirror_mode": {
    "name": "ipython",
    "version": 3
   },
   "file_extension": ".py",
   "mimetype": "text/x-python",
   "name": "python",
   "nbconvert_exporter": "python",
   "pygments_lexer": "ipython3",
   "version": "3.6.6"
  }
 },
 "nbformat": 4,
 "nbformat_minor": 2
}
