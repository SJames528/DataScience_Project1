{
 "cells": [
  {
   "cell_type": "markdown",
   "metadata": {},
   "source": [
    "The following code will take a list of IPs and use a database to find from which country the IP originates. The list of IPs used here (called 'ip.txt') is taken from a list of known malicious addresses (http://www.malwaredomainlist.com/forums/index.php?topic=3270.0). The database referencing countries by IP addresses is downloaded from (https://dev.maxmind.com/geoip/legacy/geolite/):"
   ]
  },
  {
   "cell_type": "code",
   "execution_count": 20,
   "metadata": {},
   "outputs": [
    {
     "name": "stdout",
     "output_type": "stream",
     "text": [
      "['India', 'India', 'Australia', 'Indonesia', 'Hong Kong', 'Hong Kong', 'Australia', 'Thailand', 'Malaysia', 'India', 'India', 'United States', 'United States', 'United States', 'United States', 'United States', 'United States', 'United States', 'United States', 'United States', 'United States', 'United States', 'United States', 'United States', 'Romania', 'Romania', 'Italy', 'Italy', 'Russian Federation', 'Russian Federation', 'Russian Federation', 'Russian Federation', 'United Kingdom', 'United Kingdom', 'Israel', 'Portugal', 'Netherlands', 'Ukraine', 'Korea, Republic of', 'China', 'Japan', 'Hong Kong', 'Korea, Republic of', 'Japan', 'Vietnam', 'China', 'Bangladesh', 'Korea, Republic of', 'Japan', 'China', 'Korea, Republic of', 'Australia', 'Korea, Republic of', 'China', 'China', 'China', 'Korea, Republic of', 'China', 'Vietnam', 'China', 'India', 'Japan', 'China', 'China', 'Korea, Republic of', 'Korea, Republic of', 'China', 'China', 'China', 'Vietnam', 'Vietnam', 'Korea, Republic of', 'Korea, Republic of', 'China', 'Korea, Republic of', 'Singapore', 'Italy', 'Spain', 'France', '', '', 'Canada', 'United States', 'Germany', 'Germany', 'Russian Federation', 'United Kingdom', 'Netherlands', 'Spain', 'Poland', 'China', 'United States', 'United States', 'United States', 'United States', 'United States', 'United States', 'United States', 'United States', 'United States']\n"
     ]
    }
   ],
   "source": [
    "import pygeoip\n",
    "import os\n",
    "import csv\n",
    "gi = pygeoip.GeoIP('GeoIP.dat')\n",
    "os.chdir('/home/sharding/Downloads')\n",
    "with open('ip.txt', 'r') as f:\n",
    "    reader = csv.reader(f)\n",
    "    IPList=list(reader)\n",
    "IPListAdjusted=[]\n",
    "for i in range(0,len(IPList),1):\n",
    "    IPListAdjusted.append(IPList[i][0])\n",
    "IPCountryName=[]\n",
    "for i in range(0,len(IPListAdjusted),1):\n",
    "    IPCountryName.append(gi.country_name_by_addr(IPListAdjusted[i]))\n",
    "print(IPCountryName[0:100])"
   ]
  },
  {
   "cell_type": "markdown",
   "metadata": {},
   "source": [
    "The first 100 IP countries are shown. Some of the IPs, particularly near the end of the large list, return blank country names (''), most likely because the database from which we are referencing the country names is incomplete. It is easy to remove these unknown values:"
   ]
  },
  {
   "cell_type": "code",
   "execution_count": 24,
   "metadata": {},
   "outputs": [
    {
     "name": "stdout",
     "output_type": "stream",
     "text": [
      "['India', 'India', 'Australia', 'Indonesia', 'Hong Kong', 'Hong Kong', 'Australia', 'Thailand', 'Malaysia', 'India', 'India', 'United States', 'United States', 'United States', 'United States', 'United States', 'United States', 'United States', 'United States', 'United States', 'United States', 'United States', 'United States', 'United States', 'Romania', 'Romania', 'Italy', 'Italy', 'Russian Federation', 'Russian Federation', 'Russian Federation', 'Russian Federation', 'United Kingdom', 'United Kingdom', 'Israel', 'Portugal', 'Netherlands', 'Ukraine', 'Korea, Republic of', 'China', 'Japan', 'Hong Kong', 'Korea, Republic of', 'Japan', 'Vietnam', 'China', 'Bangladesh', 'Korea, Republic of', 'Japan', 'China', 'Korea, Republic of', 'Australia', 'Korea, Republic of', 'China', 'China', 'China', 'Korea, Republic of', 'China', 'Vietnam', 'China', 'India', 'Japan', 'China', 'China', 'Korea, Republic of', 'Korea, Republic of', 'China', 'China', 'China', 'Vietnam', 'Vietnam', 'Korea, Republic of', 'Korea, Republic of', 'China', 'Korea, Republic of', 'Singapore', 'Italy', 'Spain', 'France', 'Canada', 'United States', 'Germany', 'Germany', 'Russian Federation', 'United Kingdom', 'Netherlands', 'Spain', 'Poland', 'China', 'United States', 'United States', 'United States', 'United States', 'United States', 'United States', 'United States', 'United States', 'United States', 'United States', 'United States', 'United States', 'United States', 'Germany', 'United States', 'United States', 'United States', 'United States', 'United States', 'United States', 'United States', 'United States', 'United States', 'United States', 'United States', 'United States', 'United States', 'United States', 'United States', 'United States', 'United States', 'United States', 'United States', 'United States', 'United States', 'Canada', 'United States', 'United States', 'Taiwan', 'Ukraine', 'Russian Federation', 'Portugal', 'France', 'Netherlands', 'United Kingdom', 'Germany', 'Brazil', 'Ukraine', 'Ukraine', 'Moldova, Republic of', 'Turkey', 'Italy', 'Russian Federation', 'France', 'Germany', 'Germany', 'Hong Kong', 'Indonesia', 'Colombia', 'Singapore', 'Singapore', 'United States', 'United States', 'United States', 'United States', 'United States', 'United States', 'United States', 'United States', 'United States', 'Netherlands', 'Netherlands', 'United Kingdom', 'Poland', 'Hungary', 'Germany', 'Germany', 'Netherlands', 'Russian Federation', 'Panama', 'Brazil', 'Brazil', 'Brazil', 'Brazil', 'Brazil', 'Brazil', 'Poland', 'Russian Federation', 'Russian Federation', 'Turkey', 'Germany', 'Ukraine', 'Ukraine', 'Russian Federation', 'Russian Federation', 'Germany', 'United Kingdom', 'Austria', 'Austria', 'Austria', 'Austria', 'Austria', 'Austria', 'Austria', 'Austria', 'Ukraine', 'Netherlands', 'Brazil', 'Brazil', 'Chile', 'Argentina', 'Argentina', 'Colombia', 'Chile', 'United States', 'United States', 'United States', 'United States', 'United States', 'United States', 'United States', 'United States', 'United States', 'United States', 'United States', 'United States', 'United States', 'United States', 'United States', 'United States', 'United States', 'United States', 'United States', 'United States', 'United States', 'United States', 'United States', 'United States', 'United States', 'Netherlands', 'Germany', 'Germany', 'Russian Federation', 'Austria', 'Latvia', 'Ukraine', 'Uzbekistan', 'Ukraine', 'Ukraine', 'Ukraine', 'Poland', 'Germany', 'Sweden', 'Czech Republic', 'France', 'Belgium', 'Russian Federation', 'Russian Federation', 'Russian Federation', 'Switzerland', 'Netherlands', 'Netherlands', 'Russian Federation', 'Sweden', 'Israel', 'Italy', 'Italy', 'Russian Federation', 'Israel', 'Ukraine', 'Netherlands', 'Hungary', 'Hungary', 'Netherlands', 'Poland', 'Kazakhstan', 'United States', 'United States', 'United States', 'United States', 'United States', 'Canada', 'United States', 'Canada', 'United States', 'United States', 'United States', 'United States', 'United States', 'United States', 'United States', 'Costa Rica', 'Colombia', 'Brazil', 'Brazil', 'Brazil', 'Brazil', 'Brazil', 'Argentina', 'Argentina', 'Argentina', 'Panama', 'Mexico', 'Haiti', 'Brazil', 'Brazil', 'China', 'China', 'Korea, Republic of', 'Indonesia', 'Singapore', 'Malaysia', 'Japan', 'Japan', 'China', 'India', 'China', 'India', 'Singapore', 'Singapore', 'Thailand', 'China', 'Australia', 'Thailand', 'Korea, Republic of', 'Australia', 'United States', 'United States', 'United States', 'United States', 'United States', 'United States', 'Canada', 'United States', 'United States', 'United States', 'United States', 'Canada', 'United States', 'United States', 'United States', 'United States', 'United States', 'Canada', 'United States', 'United States', 'United States', 'United States', 'United States', 'United States', 'United States', 'United States', 'United States', 'Canada', 'United States', 'Canada', 'United States', 'United States', 'Canada', 'United States', 'United States', 'United States', 'United States', 'United States', 'United States', 'United States', 'United States', 'United States', 'Korea, Republic of', 'Korea, Republic of', 'Japan', 'Japan', 'Korea, Republic of', 'China', 'Korea, Republic of', 'China', 'Korea, Republic of', 'Japan', 'Korea, Republic of', 'Korea, Republic of', 'Korea, Republic of', 'Korea, Republic of', 'Korea, Republic of', 'Korea, Republic of', 'United States', 'Luxembourg', 'Luxembourg', 'Germany', 'Germany', 'Germany', 'Kazakhstan', 'Turkey', 'Israel', 'Germany', 'Germany', 'Germany', 'Ukraine', 'France', 'France', 'France', 'Iceland', 'Bulgaria', 'Bulgaria', 'United Kingdom', 'Italy', 'Czech Republic', 'United Kingdom', 'Netherlands', 'Austria', 'Ukraine', 'Netherlands', 'United Kingdom', 'United Kingdom', 'United States', 'France', 'France', 'Italy', 'Italy', 'Ukraine', 'United Kingdom', 'Russian Federation', 'Slovakia', 'United States', 'United States', 'United States', 'United States', 'United States', 'United States', 'Canada', 'United States', 'United States', 'United States', 'United States', 'Canada', 'United States', 'United States', 'United States', 'Germany', 'Germany', 'France', 'Germany', 'Italy', 'United Kingdom', 'Belgium', 'Netherlands', 'Netherlands', 'Finland', 'Czech Republic', 'Germany', 'Poland', 'United Kingdom', 'China', 'Korea, Republic of', 'China', 'China', 'China', 'Korea, Republic of', 'Japan', 'Japan', 'Taiwan', 'Vietnam', 'China', 'China', 'China', 'China', 'China', 'United States', 'United States', 'United States', 'United States', 'United States', 'Italy', 'Netherlands', 'Turkey', 'United States', 'United States', 'Russian Federation', 'Turkey', 'Belize', 'Poland', 'United States', 'China', 'Russian Federation', 'Netherlands', 'France', 'Germany', 'United Kingdom', 'United Kingdom', 'Romania', 'Turkey', 'France', 'Slovakia', 'United States', 'United States', 'Egypt', 'China', 'Singapore', 'Belgium', 'Ukraine', 'Germany', 'Netherlands', 'Netherlands', 'Netherlands', 'Latvia', 'Netherlands', 'Netherlands', 'Netherlands', 'Russian Federation', 'Netherlands', 'Russian Federation', 'Russian Federation', 'Russian Federation', 'Italy', 'Spain', 'Denmark', 'Russian Federation', 'Russian Federation', 'Italy', 'Germany', 'Russian Federation', 'France', 'France', 'France', 'France', 'France', 'France', 'France', 'France', 'France', 'France', 'France', 'France', 'France', 'France', 'France', 'France', 'France', 'France', 'France', 'France', 'France', 'France', 'France', 'France', 'France', 'France', 'France', 'France', 'France', 'France', 'Spain', 'France', 'Russian Federation', 'Russian Federation', 'Netherlands', 'Romania', 'Germany', 'United States', 'United States', 'United States', 'United States', 'United States', 'United States', 'United States', 'United States', 'United States', 'United States', 'United States', 'United States', 'United States', 'United States', 'United States', 'United States', 'United States', 'Ireland', 'United States', 'United States', 'Japan', 'Ireland', 'China', 'China', 'China', 'China', 'Taiwan', 'China', 'China', 'China', 'China', 'Thailand', 'Taiwan', 'Taiwan', 'Russian Federation', 'Ukraine', 'Italy', 'Italy', 'Italy', 'Italy', 'Italy', 'Italy', 'Israel', 'United Kingdom', 'France', 'Russian Federation', 'Russian Federation', 'Russian Federation', 'Latvia', 'United States', 'United States', 'United States', 'United States', 'United States', 'Canada', 'United States', 'United States', 'United States', 'United States', 'United States', 'United States', 'United States', 'United States', 'United States', 'Canada', 'United States', 'United States', 'United States', 'United States', 'United States', 'United States', 'United States', 'United States', 'United States', 'United States', 'United States', 'United States', 'United States', 'United States', 'United States', 'United States', 'United States', 'United States', 'United States', 'United States', 'United States', 'United States', 'United States', 'Canada', 'United States', 'United States', 'United States', 'United States', 'Singapore', 'Singapore', 'Singapore', 'United States', 'United States', 'United States', 'United States', 'United States', 'United States', 'United States', 'United States', 'United States', 'United States', 'United States', 'Canada', 'United States', 'United States', 'United States', 'United States', 'United States', 'United States', 'United States', 'United States', 'United States', 'United States', 'United States', 'United States', 'United States', 'United States', 'United States', 'United States', 'United States', 'United States', 'Canada', 'United States', 'United States', 'United States', 'United States', 'United States', 'United States', 'United States', 'United States', 'United States', 'United States', 'United States', 'United States', 'United States', 'United States', 'United States', 'United States', 'United States', 'United States', 'United States', 'United States', 'United States', 'United States', 'United States', 'United States', 'Canada', 'United States', 'United States', 'United States', 'United States', 'United States', 'Canada', 'United States', 'United States', 'United States', 'United States', 'United States', 'United States', 'United States', 'United States', 'United States', 'United States', 'United States', 'United States', 'United States', 'United States', 'United States', 'United States', 'United States', 'United States', 'United States', 'United States', 'United States', 'United States', 'United States', 'United States', 'United States', 'United States', 'United States', 'United States', 'Russian Federation', 'Ukraine', 'Russian Federation', 'Russian Federation', 'Europe', 'Netherlands', 'Poland', 'Poland', 'United Kingdom', 'Lithuania', 'Czech Republic', 'United Kingdom', 'United Kingdom', 'United Kingdom', 'Russian Federation', 'Sweden', 'United Kingdom', 'United Kingdom', 'United Kingdom', 'Netherlands', 'Netherlands', 'Netherlands', 'Russian Federation', 'Ireland', 'Ireland', 'Ukraine', 'Ukraine', 'Germany', 'Netherlands', 'United Kingdom', 'United Kingdom', 'Italy', 'Poland', 'Poland', 'Germany', 'Germany', 'Spain', 'Germany', 'United Kingdom', 'Italy', 'Estonia', 'Germany', 'Ukraine', 'Ukraine', 'Germany', 'Germany', 'Germany', 'Germany', 'Germany', 'Germany', 'Germany', 'Germany', 'Russian Federation', 'Russian Federation', 'Russian Federation', 'Czech Republic', 'Czech Republic', 'Czech Republic', 'Russian Federation', 'Sweden', 'United Kingdom', 'Italy', 'Italy', 'Italy', 'Italy', 'Sweden', 'Sweden', 'Italy', 'Italy', 'Russian Federation', 'Germany', 'Germany', 'Germany', 'Spain', 'Switzerland', 'Iceland', 'Germany', 'Europe', 'Europe', 'Italy', 'Poland', 'Netherlands', 'Russian Federation', 'United Kingdom', 'Germany', 'Bulgaria', 'Turkey', 'France', 'Germany', 'Poland', 'Poland', 'Germany', 'Germany', 'Germany', 'Germany', 'United Kingdom', 'Russian Federation', 'Russian Federation', 'Russian Federation', 'Austria', 'Netherlands', 'Netherlands', 'Netherlands', 'Netherlands', 'Russian Federation', 'Germany', 'Germany', 'Italy', 'Italy', 'Germany', 'Romania', 'Russian Federation', 'Romania', 'United Kingdom', 'Germany', 'Hungary', 'Czech Republic', 'Russian Federation', 'Netherlands', 'Russian Federation', 'France', 'France', 'France', 'United Kingdom', 'United Kingdom', 'Sweden', 'Czech Republic', 'Russian Federation', 'Russian Federation', 'Russian Federation', 'Russian Federation', 'Germany', 'Russian Federation', 'Russian Federation', 'Russian Federation', 'Czech Republic', 'Moldova, Republic of', 'Ukraine', 'Ireland', 'Ireland', 'United Kingdom', 'Spain', 'Moldova, Republic of', 'France', 'Romania', 'Russian Federation', 'Russian Federation', 'United Kingdom', 'Belarus', 'Germany', 'Slovenia', 'Latvia', 'Latvia', 'Latvia', 'Russian Federation', 'Russian Federation', 'Russian Federation', 'Bulgaria', 'Ukraine', 'Spain', 'Ukraine', 'Ukraine', 'Poland', 'Ukraine', 'Bulgaria', 'Russian Federation', 'Russian Federation', 'Ukraine', 'Ukraine', 'Netherlands', 'Netherlands', 'Latvia', 'Iran, Islamic Republic of', 'Russian Federation', 'Ukraine', 'Ukraine', 'Ukraine', 'Ukraine', 'Belarus', 'Russian Federation', 'Czech Republic', 'Czech Republic', 'Czech Republic', 'Czech Republic', 'Russian Federation', 'Netherlands', 'Netherlands', 'Netherlands', 'Netherlands', 'Netherlands', 'Ukraine', 'Ukraine', 'Ukraine', 'Netherlands', 'Germany', 'Hungary', 'Netherlands', 'Germany', 'France', 'France', 'France', 'Portugal', 'Denmark', 'Luxembourg', 'Luxembourg', 'Luxembourg', 'Germany', 'Turkey', 'Turkey', 'Turkey', 'United Kingdom', 'Russian Federation', 'Italy', 'Italy', 'Italy', 'France', 'Sweden', 'United Kingdom', 'Russian Federation', 'Germany', 'Turkey', 'Romania', 'United States', 'United States', 'United States', 'United States', 'United States', 'United States', 'United States', 'United States', 'United States', 'United States', 'United States', 'United States', 'United States']\n"
     ]
    },
    {
     "data": {
      "text/plain": [
       "967"
      ]
     },
     "execution_count": 24,
     "metadata": {},
     "output_type": "execute_result"
    }
   ],
   "source": [
    "IPCountryNameAdjusted=[x for x in IPCountryName if not x=='']\n",
    "print(IPCountryNameAdjusted)\n",
    "len(IPCountryNameAdjusted)"
   ]
  },
  {
   "cell_type": "markdown",
   "metadata": {},
   "source": [
    "We are left with about 96% of our original data."
   ]
  },
  {
   "cell_type": "code",
   "execution_count": 28,
   "metadata": {},
   "outputs": [
    {
     "ename": "ModuleNotFoundError",
     "evalue": "No module named 'pandas'",
     "output_type": "error",
     "traceback": [
      "\u001b[0;31m---------------------------------------------------------------------------\u001b[0m",
      "\u001b[0;31mModuleNotFoundError\u001b[0m                       Traceback (most recent call last)",
      "\u001b[0;32m<ipython-input-28-b422e5be93c8>\u001b[0m in \u001b[0;36m<module>\u001b[0;34m()\u001b[0m\n\u001b[0;32m----> 1\u001b[0;31m \u001b[0;32mimport\u001b[0m \u001b[0mpandas\u001b[0m\u001b[0;34m\u001b[0m\u001b[0m\n\u001b[0m\u001b[1;32m      2\u001b[0m \u001b[0mIPCountrySeries\u001b[0m\u001b[0;34m=\u001b[0m\u001b[0mpanda\u001b[0m\u001b[0;34m.\u001b[0m\u001b[0mSeries\u001b[0m\u001b[0;34m(\u001b[0m\u001b[0mIPCountryNameAdjusted\u001b[0m\u001b[0;34m)\u001b[0m\u001b[0;34m\u001b[0m\u001b[0m\n\u001b[1;32m      3\u001b[0m \u001b[0mcounts\u001b[0m\u001b[0;34m=\u001b[0m\u001b[0mIPCountrySeries\u001b[0m\u001b[0;34m.\u001b[0m\u001b[0mvalue_counts\u001b[0m\u001b[0;34m(\u001b[0m\u001b[0;34m)\u001b[0m\u001b[0;34m\u001b[0m\u001b[0m\n",
      "\u001b[0;31mModuleNotFoundError\u001b[0m: No module named 'pandas'"
     ]
    }
   ],
   "source": [
    "import pandas\n",
    "IPCountrySeries=panda.Series(IPCountryNameAdjusted)\n",
    "counts=IPCountrySeries.value_counts()"
   ]
  },
  {
   "cell_type": "code",
   "execution_count": null,
   "metadata": {},
   "outputs": [],
   "source": []
  },
  {
   "cell_type": "code",
   "execution_count": null,
   "metadata": {},
   "outputs": [],
   "source": []
  }
 ],
 "metadata": {
  "kernelspec": {
   "display_name": "Python 3",
   "language": "python",
   "name": "python3"
  },
  "language_info": {
   "codemirror_mode": {
    "name": "ipython",
    "version": 3
   },
   "file_extension": ".py",
   "mimetype": "text/x-python",
   "name": "python",
   "nbconvert_exporter": "python",
   "pygments_lexer": "ipython3",
   "version": "3.6.6"
  }
 },
 "nbformat": 4,
 "nbformat_minor": 2
}
